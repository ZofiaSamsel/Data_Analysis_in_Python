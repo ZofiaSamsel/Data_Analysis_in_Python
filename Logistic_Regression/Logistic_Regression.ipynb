{
 "cells": [
  {
   "cell_type": "markdown",
   "id": "da299ec0",
   "metadata": {},
   "source": [
    "# Kategoria klient operatora sieci komórkowe:\n",
    "\n",
    "__Kontekst:__\n",
    "Zbiór danych zawiera różne informacje o klientach, takie jak wiek, region itp. Zawiera informacje pobrane przez firmę telekomunikacyjną.\n",
    "\n",
    "__Zbiór danych zawiera:__\n",
    "\tOpis i specyfika;\n",
    "\tKod regionu określający obszar, do którego należą klienci;\n",
    "\tOkres, na jaki wybrali firmę;\n",
    "\tWiek klientów;\n",
    "\tDochód, średnie wynagrodzenie;\n",
    "\tStan cywilny;\n",
    "\t Adres Strefa;\n",
    "\tGrupa wykształcenia;\n",
    "\tLata zatrudnienia;\n",
    "\tStatus emerytalny;\n",
    "\tPłeć;\n",
    "\tKod rejonu, w którym mieszkają;\n",
    "    Kategoria klienta.\n"
   ]
  },
  {
   "cell_type": "code",
   "execution_count": 1,
   "id": "f95c4f25",
   "metadata": {},
   "outputs": [],
   "source": [
    "# ladowanie biblioteki pandas, sklearn.linear_model, accuracy_score, precision_score, recall_score, f1_score\n",
    "import pandas as pd\n",
    "import random\n",
    "from sklearn.linear_model import LogisticRegression \n",
    "import numpy as np\n",
    "import matplotlib.pyplot as plt\n",
    "from sklearn.metrics import accuracy_score, precision_score, recall_score, f1_score \n",
    "from sklearn import svm, datasets\n",
    "from sklearn import metrics\n",
    "from sklearn.model_selection import train_test_split"
   ]
  },
  {
   "cell_type": "code",
   "execution_count": 2,
   "id": "25027db9",
   "metadata": {},
   "outputs": [
    {
     "data": {
      "text/html": [
       "<div>\n",
       "<style scoped>\n",
       "    .dataframe tbody tr th:only-of-type {\n",
       "        vertical-align: middle;\n",
       "    }\n",
       "\n",
       "    .dataframe tbody tr th {\n",
       "        vertical-align: top;\n",
       "    }\n",
       "\n",
       "    .dataframe thead th {\n",
       "        text-align: right;\n",
       "    }\n",
       "</style>\n",
       "<table border=\"1\" class=\"dataframe\">\n",
       "  <thead>\n",
       "    <tr style=\"text-align: right;\">\n",
       "      <th></th>\n",
       "      <th>region</th>\n",
       "      <th>tenure</th>\n",
       "      <th>age</th>\n",
       "      <th>income</th>\n",
       "      <th>marital</th>\n",
       "      <th>address</th>\n",
       "      <th>ed</th>\n",
       "      <th>employ</th>\n",
       "      <th>retire</th>\n",
       "      <th>gender</th>\n",
       "      <th>reside</th>\n",
       "      <th>custcat</th>\n",
       "    </tr>\n",
       "  </thead>\n",
       "  <tbody>\n",
       "    <tr>\n",
       "      <th>0</th>\n",
       "      <td>2</td>\n",
       "      <td>13</td>\n",
       "      <td>44</td>\n",
       "      <td>64</td>\n",
       "      <td>1</td>\n",
       "      <td>9</td>\n",
       "      <td>4</td>\n",
       "      <td>5</td>\n",
       "      <td>0</td>\n",
       "      <td>0</td>\n",
       "      <td>2</td>\n",
       "      <td>A</td>\n",
       "    </tr>\n",
       "    <tr>\n",
       "      <th>1</th>\n",
       "      <td>3</td>\n",
       "      <td>11</td>\n",
       "      <td>33</td>\n",
       "      <td>136</td>\n",
       "      <td>1</td>\n",
       "      <td>7</td>\n",
       "      <td>5</td>\n",
       "      <td>5</td>\n",
       "      <td>0</td>\n",
       "      <td>0</td>\n",
       "      <td>6</td>\n",
       "      <td>D</td>\n",
       "    </tr>\n",
       "    <tr>\n",
       "      <th>2</th>\n",
       "      <td>3</td>\n",
       "      <td>68</td>\n",
       "      <td>52</td>\n",
       "      <td>116</td>\n",
       "      <td>1</td>\n",
       "      <td>24</td>\n",
       "      <td>1</td>\n",
       "      <td>29</td>\n",
       "      <td>0</td>\n",
       "      <td>1</td>\n",
       "      <td>2</td>\n",
       "      <td>C</td>\n",
       "    </tr>\n",
       "    <tr>\n",
       "      <th>3</th>\n",
       "      <td>2</td>\n",
       "      <td>33</td>\n",
       "      <td>33</td>\n",
       "      <td>33</td>\n",
       "      <td>0</td>\n",
       "      <td>12</td>\n",
       "      <td>2</td>\n",
       "      <td>0</td>\n",
       "      <td>0</td>\n",
       "      <td>1</td>\n",
       "      <td>1</td>\n",
       "      <td>A</td>\n",
       "    </tr>\n",
       "    <tr>\n",
       "      <th>4</th>\n",
       "      <td>2</td>\n",
       "      <td>23</td>\n",
       "      <td>30</td>\n",
       "      <td>30</td>\n",
       "      <td>1</td>\n",
       "      <td>9</td>\n",
       "      <td>1</td>\n",
       "      <td>2</td>\n",
       "      <td>0</td>\n",
       "      <td>0</td>\n",
       "      <td>4</td>\n",
       "      <td>C</td>\n",
       "    </tr>\n",
       "    <tr>\n",
       "      <th>...</th>\n",
       "      <td>...</td>\n",
       "      <td>...</td>\n",
       "      <td>...</td>\n",
       "      <td>...</td>\n",
       "      <td>...</td>\n",
       "      <td>...</td>\n",
       "      <td>...</td>\n",
       "      <td>...</td>\n",
       "      <td>...</td>\n",
       "      <td>...</td>\n",
       "      <td>...</td>\n",
       "      <td>...</td>\n",
       "    </tr>\n",
       "    <tr>\n",
       "      <th>995</th>\n",
       "      <td>3</td>\n",
       "      <td>10</td>\n",
       "      <td>39</td>\n",
       "      <td>27</td>\n",
       "      <td>0</td>\n",
       "      <td>0</td>\n",
       "      <td>3</td>\n",
       "      <td>0</td>\n",
       "      <td>0</td>\n",
       "      <td>1</td>\n",
       "      <td>3</td>\n",
       "      <td>A</td>\n",
       "    </tr>\n",
       "    <tr>\n",
       "      <th>996</th>\n",
       "      <td>1</td>\n",
       "      <td>7</td>\n",
       "      <td>34</td>\n",
       "      <td>22</td>\n",
       "      <td>0</td>\n",
       "      <td>2</td>\n",
       "      <td>5</td>\n",
       "      <td>5</td>\n",
       "      <td>0</td>\n",
       "      <td>1</td>\n",
       "      <td>1</td>\n",
       "      <td>A</td>\n",
       "    </tr>\n",
       "    <tr>\n",
       "      <th>997</th>\n",
       "      <td>3</td>\n",
       "      <td>67</td>\n",
       "      <td>59</td>\n",
       "      <td>944</td>\n",
       "      <td>0</td>\n",
       "      <td>40</td>\n",
       "      <td>5</td>\n",
       "      <td>33</td>\n",
       "      <td>0</td>\n",
       "      <td>1</td>\n",
       "      <td>1</td>\n",
       "      <td>D</td>\n",
       "    </tr>\n",
       "    <tr>\n",
       "      <th>998</th>\n",
       "      <td>3</td>\n",
       "      <td>70</td>\n",
       "      <td>49</td>\n",
       "      <td>87</td>\n",
       "      <td>0</td>\n",
       "      <td>18</td>\n",
       "      <td>2</td>\n",
       "      <td>22</td>\n",
       "      <td>0</td>\n",
       "      <td>1</td>\n",
       "      <td>1</td>\n",
       "      <td>C</td>\n",
       "    </tr>\n",
       "    <tr>\n",
       "      <th>999</th>\n",
       "      <td>3</td>\n",
       "      <td>50</td>\n",
       "      <td>36</td>\n",
       "      <td>39</td>\n",
       "      <td>1</td>\n",
       "      <td>7</td>\n",
       "      <td>3</td>\n",
       "      <td>3</td>\n",
       "      <td>0</td>\n",
       "      <td>1</td>\n",
       "      <td>3</td>\n",
       "      <td>B</td>\n",
       "    </tr>\n",
       "  </tbody>\n",
       "</table>\n",
       "<p>1000 rows × 12 columns</p>\n",
       "</div>"
      ],
      "text/plain": [
       "     region  tenure  age  income  marital  address  ed  employ  retire  \\\n",
       "0         2      13   44      64        1        9   4       5       0   \n",
       "1         3      11   33     136        1        7   5       5       0   \n",
       "2         3      68   52     116        1       24   1      29       0   \n",
       "3         2      33   33      33        0       12   2       0       0   \n",
       "4         2      23   30      30        1        9   1       2       0   \n",
       "..      ...     ...  ...     ...      ...      ...  ..     ...     ...   \n",
       "995       3      10   39      27        0        0   3       0       0   \n",
       "996       1       7   34      22        0        2   5       5       0   \n",
       "997       3      67   59     944        0       40   5      33       0   \n",
       "998       3      70   49      87        0       18   2      22       0   \n",
       "999       3      50   36      39        1        7   3       3       0   \n",
       "\n",
       "     gender  reside custcat  \n",
       "0         0       2       A  \n",
       "1         0       6       D  \n",
       "2         1       2       C  \n",
       "3         1       1       A  \n",
       "4         0       4       C  \n",
       "..      ...     ...     ...  \n",
       "995       1       3       A  \n",
       "996       1       1       A  \n",
       "997       1       1       D  \n",
       "998       1       1       C  \n",
       "999       1       3       B  \n",
       "\n",
       "[1000 rows x 12 columns]"
      ]
     },
     "execution_count": 2,
     "metadata": {},
     "output_type": "execute_result"
    }
   ],
   "source": [
    "# zaladowanie bazy danych \n",
    "df = pd.read_csv('Telecust1.csv')\n",
    "\n",
    "#prezntcja danych\n",
    "df"
   ]
  },
  {
   "cell_type": "markdown",
   "id": "fd3583e6",
   "metadata": {},
   "source": [
    "__Analiza Statytyczana:__ Zbiór danych poddano analizie statycznej. \n",
    "Dla zmiennej wiek wyliczono średnią, medianę, percentyl rzedu 50, 25, 75, wariancję i odchylene standardowe."
   ]
  },
  {
   "cell_type": "code",
   "execution_count": 3,
   "id": "7a32e634",
   "metadata": {},
   "outputs": [
    {
     "data": {
      "text/html": [
       "<div>\n",
       "<style scoped>\n",
       "    .dataframe tbody tr th:only-of-type {\n",
       "        vertical-align: middle;\n",
       "    }\n",
       "\n",
       "    .dataframe tbody tr th {\n",
       "        vertical-align: top;\n",
       "    }\n",
       "\n",
       "    .dataframe thead th {\n",
       "        text-align: right;\n",
       "    }\n",
       "</style>\n",
       "<table border=\"1\" class=\"dataframe\">\n",
       "  <thead>\n",
       "    <tr style=\"text-align: right;\">\n",
       "      <th></th>\n",
       "      <th>region</th>\n",
       "      <th>tenure</th>\n",
       "      <th>age</th>\n",
       "      <th>income</th>\n",
       "      <th>marital</th>\n",
       "      <th>address</th>\n",
       "      <th>ed</th>\n",
       "      <th>employ</th>\n",
       "      <th>retire</th>\n",
       "      <th>gender</th>\n",
       "      <th>reside</th>\n",
       "    </tr>\n",
       "  </thead>\n",
       "  <tbody>\n",
       "    <tr>\n",
       "      <th>count</th>\n",
       "      <td>1000.0000</td>\n",
       "      <td>1000.000000</td>\n",
       "      <td>1000.000000</td>\n",
       "      <td>1000.000000</td>\n",
       "      <td>1000.000000</td>\n",
       "      <td>1000.000000</td>\n",
       "      <td>1000.000000</td>\n",
       "      <td>1000.000000</td>\n",
       "      <td>1000.000000</td>\n",
       "      <td>1000.000000</td>\n",
       "      <td>1000.000000</td>\n",
       "    </tr>\n",
       "    <tr>\n",
       "      <th>mean</th>\n",
       "      <td>2.0220</td>\n",
       "      <td>35.526000</td>\n",
       "      <td>41.684000</td>\n",
       "      <td>77.535000</td>\n",
       "      <td>0.495000</td>\n",
       "      <td>11.551000</td>\n",
       "      <td>2.671000</td>\n",
       "      <td>10.987000</td>\n",
       "      <td>0.047000</td>\n",
       "      <td>0.517000</td>\n",
       "      <td>2.331000</td>\n",
       "    </tr>\n",
       "    <tr>\n",
       "      <th>std</th>\n",
       "      <td>0.8162</td>\n",
       "      <td>21.359812</td>\n",
       "      <td>12.558816</td>\n",
       "      <td>107.044165</td>\n",
       "      <td>0.500225</td>\n",
       "      <td>10.086681</td>\n",
       "      <td>1.222397</td>\n",
       "      <td>10.082087</td>\n",
       "      <td>0.211745</td>\n",
       "      <td>0.499961</td>\n",
       "      <td>1.435793</td>\n",
       "    </tr>\n",
       "    <tr>\n",
       "      <th>min</th>\n",
       "      <td>1.0000</td>\n",
       "      <td>1.000000</td>\n",
       "      <td>18.000000</td>\n",
       "      <td>9.000000</td>\n",
       "      <td>0.000000</td>\n",
       "      <td>0.000000</td>\n",
       "      <td>1.000000</td>\n",
       "      <td>0.000000</td>\n",
       "      <td>0.000000</td>\n",
       "      <td>0.000000</td>\n",
       "      <td>1.000000</td>\n",
       "    </tr>\n",
       "    <tr>\n",
       "      <th>25%</th>\n",
       "      <td>1.0000</td>\n",
       "      <td>17.000000</td>\n",
       "      <td>32.000000</td>\n",
       "      <td>29.000000</td>\n",
       "      <td>0.000000</td>\n",
       "      <td>3.000000</td>\n",
       "      <td>2.000000</td>\n",
       "      <td>3.000000</td>\n",
       "      <td>0.000000</td>\n",
       "      <td>0.000000</td>\n",
       "      <td>1.000000</td>\n",
       "    </tr>\n",
       "    <tr>\n",
       "      <th>50%</th>\n",
       "      <td>2.0000</td>\n",
       "      <td>34.000000</td>\n",
       "      <td>40.000000</td>\n",
       "      <td>47.000000</td>\n",
       "      <td>0.000000</td>\n",
       "      <td>9.000000</td>\n",
       "      <td>3.000000</td>\n",
       "      <td>8.000000</td>\n",
       "      <td>0.000000</td>\n",
       "      <td>1.000000</td>\n",
       "      <td>2.000000</td>\n",
       "    </tr>\n",
       "    <tr>\n",
       "      <th>75%</th>\n",
       "      <td>3.0000</td>\n",
       "      <td>54.000000</td>\n",
       "      <td>51.000000</td>\n",
       "      <td>83.000000</td>\n",
       "      <td>1.000000</td>\n",
       "      <td>18.000000</td>\n",
       "      <td>4.000000</td>\n",
       "      <td>17.000000</td>\n",
       "      <td>0.000000</td>\n",
       "      <td>1.000000</td>\n",
       "      <td>3.000000</td>\n",
       "    </tr>\n",
       "    <tr>\n",
       "      <th>max</th>\n",
       "      <td>3.0000</td>\n",
       "      <td>72.000000</td>\n",
       "      <td>77.000000</td>\n",
       "      <td>1668.000000</td>\n",
       "      <td>1.000000</td>\n",
       "      <td>55.000000</td>\n",
       "      <td>5.000000</td>\n",
       "      <td>47.000000</td>\n",
       "      <td>1.000000</td>\n",
       "      <td>1.000000</td>\n",
       "      <td>8.000000</td>\n",
       "    </tr>\n",
       "  </tbody>\n",
       "</table>\n",
       "</div>"
      ],
      "text/plain": [
       "          region       tenure          age       income      marital  \\\n",
       "count  1000.0000  1000.000000  1000.000000  1000.000000  1000.000000   \n",
       "mean      2.0220    35.526000    41.684000    77.535000     0.495000   \n",
       "std       0.8162    21.359812    12.558816   107.044165     0.500225   \n",
       "min       1.0000     1.000000    18.000000     9.000000     0.000000   \n",
       "25%       1.0000    17.000000    32.000000    29.000000     0.000000   \n",
       "50%       2.0000    34.000000    40.000000    47.000000     0.000000   \n",
       "75%       3.0000    54.000000    51.000000    83.000000     1.000000   \n",
       "max       3.0000    72.000000    77.000000  1668.000000     1.000000   \n",
       "\n",
       "           address           ed       employ       retire       gender  \\\n",
       "count  1000.000000  1000.000000  1000.000000  1000.000000  1000.000000   \n",
       "mean     11.551000     2.671000    10.987000     0.047000     0.517000   \n",
       "std      10.086681     1.222397    10.082087     0.211745     0.499961   \n",
       "min       0.000000     1.000000     0.000000     0.000000     0.000000   \n",
       "25%       3.000000     2.000000     3.000000     0.000000     0.000000   \n",
       "50%       9.000000     3.000000     8.000000     0.000000     1.000000   \n",
       "75%      18.000000     4.000000    17.000000     0.000000     1.000000   \n",
       "max      55.000000     5.000000    47.000000     1.000000     1.000000   \n",
       "\n",
       "            reside  \n",
       "count  1000.000000  \n",
       "mean      2.331000  \n",
       "std       1.435793  \n",
       "min       1.000000  \n",
       "25%       1.000000  \n",
       "50%       2.000000  \n",
       "75%       3.000000  \n",
       "max       8.000000  "
      ]
     },
     "execution_count": 3,
     "metadata": {},
     "output_type": "execute_result"
    }
   ],
   "source": [
    "# podstawowa analiza statytyczna danych\n",
    "df.describe()"
   ]
  },
  {
   "cell_type": "markdown",
   "id": "b85ec228",
   "metadata": {},
   "source": [
    "__Przygotowanie danych do analizy:__ zmiana kategorii klienta na dane liczbowe "
   ]
  },
  {
   "cell_type": "code",
   "execution_count": 4,
   "id": "59dead55",
   "metadata": {},
   "outputs": [
    {
     "data": {
      "text/html": [
       "<div>\n",
       "<style scoped>\n",
       "    .dataframe tbody tr th:only-of-type {\n",
       "        vertical-align: middle;\n",
       "    }\n",
       "\n",
       "    .dataframe tbody tr th {\n",
       "        vertical-align: top;\n",
       "    }\n",
       "\n",
       "    .dataframe thead th {\n",
       "        text-align: right;\n",
       "    }\n",
       "</style>\n",
       "<table border=\"1\" class=\"dataframe\">\n",
       "  <thead>\n",
       "    <tr style=\"text-align: right;\">\n",
       "      <th></th>\n",
       "      <th>region</th>\n",
       "      <th>tenure</th>\n",
       "      <th>age</th>\n",
       "      <th>income</th>\n",
       "      <th>marital</th>\n",
       "      <th>address</th>\n",
       "      <th>ed</th>\n",
       "      <th>employ</th>\n",
       "      <th>retire</th>\n",
       "      <th>gender</th>\n",
       "      <th>reside</th>\n",
       "      <th>custcat</th>\n",
       "      <th>custcat1</th>\n",
       "    </tr>\n",
       "  </thead>\n",
       "  <tbody>\n",
       "    <tr>\n",
       "      <th>0</th>\n",
       "      <td>2</td>\n",
       "      <td>13</td>\n",
       "      <td>44</td>\n",
       "      <td>64</td>\n",
       "      <td>1</td>\n",
       "      <td>9</td>\n",
       "      <td>4</td>\n",
       "      <td>5</td>\n",
       "      <td>0</td>\n",
       "      <td>0</td>\n",
       "      <td>2</td>\n",
       "      <td>A</td>\n",
       "      <td>0</td>\n",
       "    </tr>\n",
       "    <tr>\n",
       "      <th>1</th>\n",
       "      <td>3</td>\n",
       "      <td>11</td>\n",
       "      <td>33</td>\n",
       "      <td>136</td>\n",
       "      <td>1</td>\n",
       "      <td>7</td>\n",
       "      <td>5</td>\n",
       "      <td>5</td>\n",
       "      <td>0</td>\n",
       "      <td>0</td>\n",
       "      <td>6</td>\n",
       "      <td>D</td>\n",
       "      <td>1</td>\n",
       "    </tr>\n",
       "    <tr>\n",
       "      <th>2</th>\n",
       "      <td>3</td>\n",
       "      <td>68</td>\n",
       "      <td>52</td>\n",
       "      <td>116</td>\n",
       "      <td>1</td>\n",
       "      <td>24</td>\n",
       "      <td>1</td>\n",
       "      <td>29</td>\n",
       "      <td>0</td>\n",
       "      <td>1</td>\n",
       "      <td>2</td>\n",
       "      <td>C</td>\n",
       "      <td>1</td>\n",
       "    </tr>\n",
       "    <tr>\n",
       "      <th>3</th>\n",
       "      <td>2</td>\n",
       "      <td>33</td>\n",
       "      <td>33</td>\n",
       "      <td>33</td>\n",
       "      <td>0</td>\n",
       "      <td>12</td>\n",
       "      <td>2</td>\n",
       "      <td>0</td>\n",
       "      <td>0</td>\n",
       "      <td>1</td>\n",
       "      <td>1</td>\n",
       "      <td>A</td>\n",
       "      <td>0</td>\n",
       "    </tr>\n",
       "    <tr>\n",
       "      <th>4</th>\n",
       "      <td>2</td>\n",
       "      <td>23</td>\n",
       "      <td>30</td>\n",
       "      <td>30</td>\n",
       "      <td>1</td>\n",
       "      <td>9</td>\n",
       "      <td>1</td>\n",
       "      <td>2</td>\n",
       "      <td>0</td>\n",
       "      <td>0</td>\n",
       "      <td>4</td>\n",
       "      <td>C</td>\n",
       "      <td>1</td>\n",
       "    </tr>\n",
       "    <tr>\n",
       "      <th>...</th>\n",
       "      <td>...</td>\n",
       "      <td>...</td>\n",
       "      <td>...</td>\n",
       "      <td>...</td>\n",
       "      <td>...</td>\n",
       "      <td>...</td>\n",
       "      <td>...</td>\n",
       "      <td>...</td>\n",
       "      <td>...</td>\n",
       "      <td>...</td>\n",
       "      <td>...</td>\n",
       "      <td>...</td>\n",
       "      <td>...</td>\n",
       "    </tr>\n",
       "    <tr>\n",
       "      <th>995</th>\n",
       "      <td>3</td>\n",
       "      <td>10</td>\n",
       "      <td>39</td>\n",
       "      <td>27</td>\n",
       "      <td>0</td>\n",
       "      <td>0</td>\n",
       "      <td>3</td>\n",
       "      <td>0</td>\n",
       "      <td>0</td>\n",
       "      <td>1</td>\n",
       "      <td>3</td>\n",
       "      <td>A</td>\n",
       "      <td>0</td>\n",
       "    </tr>\n",
       "    <tr>\n",
       "      <th>996</th>\n",
       "      <td>1</td>\n",
       "      <td>7</td>\n",
       "      <td>34</td>\n",
       "      <td>22</td>\n",
       "      <td>0</td>\n",
       "      <td>2</td>\n",
       "      <td>5</td>\n",
       "      <td>5</td>\n",
       "      <td>0</td>\n",
       "      <td>1</td>\n",
       "      <td>1</td>\n",
       "      <td>A</td>\n",
       "      <td>0</td>\n",
       "    </tr>\n",
       "    <tr>\n",
       "      <th>997</th>\n",
       "      <td>3</td>\n",
       "      <td>67</td>\n",
       "      <td>59</td>\n",
       "      <td>944</td>\n",
       "      <td>0</td>\n",
       "      <td>40</td>\n",
       "      <td>5</td>\n",
       "      <td>33</td>\n",
       "      <td>0</td>\n",
       "      <td>1</td>\n",
       "      <td>1</td>\n",
       "      <td>D</td>\n",
       "      <td>1</td>\n",
       "    </tr>\n",
       "    <tr>\n",
       "      <th>998</th>\n",
       "      <td>3</td>\n",
       "      <td>70</td>\n",
       "      <td>49</td>\n",
       "      <td>87</td>\n",
       "      <td>0</td>\n",
       "      <td>18</td>\n",
       "      <td>2</td>\n",
       "      <td>22</td>\n",
       "      <td>0</td>\n",
       "      <td>1</td>\n",
       "      <td>1</td>\n",
       "      <td>C</td>\n",
       "      <td>1</td>\n",
       "    </tr>\n",
       "    <tr>\n",
       "      <th>999</th>\n",
       "      <td>3</td>\n",
       "      <td>50</td>\n",
       "      <td>36</td>\n",
       "      <td>39</td>\n",
       "      <td>1</td>\n",
       "      <td>7</td>\n",
       "      <td>3</td>\n",
       "      <td>3</td>\n",
       "      <td>0</td>\n",
       "      <td>1</td>\n",
       "      <td>3</td>\n",
       "      <td>B</td>\n",
       "      <td>0</td>\n",
       "    </tr>\n",
       "  </tbody>\n",
       "</table>\n",
       "<p>1000 rows × 13 columns</p>\n",
       "</div>"
      ],
      "text/plain": [
       "     region  tenure  age  income  marital  address  ed  employ  retire  \\\n",
       "0         2      13   44      64        1        9   4       5       0   \n",
       "1         3      11   33     136        1        7   5       5       0   \n",
       "2         3      68   52     116        1       24   1      29       0   \n",
       "3         2      33   33      33        0       12   2       0       0   \n",
       "4         2      23   30      30        1        9   1       2       0   \n",
       "..      ...     ...  ...     ...      ...      ...  ..     ...     ...   \n",
       "995       3      10   39      27        0        0   3       0       0   \n",
       "996       1       7   34      22        0        2   5       5       0   \n",
       "997       3      67   59     944        0       40   5      33       0   \n",
       "998       3      70   49      87        0       18   2      22       0   \n",
       "999       3      50   36      39        1        7   3       3       0   \n",
       "\n",
       "     gender  reside custcat  custcat1  \n",
       "0         0       2       A         0  \n",
       "1         0       6       D         1  \n",
       "2         1       2       C         1  \n",
       "3         1       1       A         0  \n",
       "4         0       4       C         1  \n",
       "..      ...     ...     ...       ...  \n",
       "995       1       3       A         0  \n",
       "996       1       1       A         0  \n",
       "997       1       1       D         1  \n",
       "998       1       1       C         1  \n",
       "999       1       3       B         0  \n",
       "\n",
       "[1000 rows x 13 columns]"
      ]
     },
     "execution_count": 4,
     "metadata": {},
     "output_type": "execute_result"
    }
   ],
   "source": [
    "arr = df[['region','tenure','age','income','marital','address','ed',\n",
    "          'employ','retire','gender','reside','custcat']].values \n",
    "tab =[]\n",
    "\n",
    "# dla kazdego klienta przyporzadkowuje odpowiednia grupe\n",
    "for i in range(0,1000):\n",
    "    if (arr[i,11] == 'A'):\n",
    "        tab.append(0)  \n",
    "    elif (arr[i,11] ==  'B'):\n",
    "        tab.append(0)\n",
    "    elif (arr[i,11] ==  'C'):\n",
    "        tab.append(1)\n",
    "    else:\n",
    "        tab.append(1)\n",
    "        \n",
    "# print(arr[:, 11]) \n",
    "# print(df[['custcat']])\n",
    "# print(tab)\n",
    "\n",
    "# dodanie listy do bazy\n",
    "df['custcat1'] = tab\n",
    "\n",
    "# prezentacja bazy\n",
    "df\n"
   ]
  },
  {
   "cell_type": "markdown",
   "id": "9bec208b",
   "metadata": {},
   "source": [
    "__Klasyfikacja graficzna:__ "
   ]
  },
  {
   "cell_type": "markdown",
   "id": "ea2b4662",
   "metadata": {},
   "source": [
    "    -- Wiek i zatrudnienie, a grupa klasyfikacyjna"
   ]
  },
  {
   "cell_type": "code",
   "execution_count": 5,
   "id": "f4cc5613",
   "metadata": {},
   "outputs": [
    {
     "data": {
      "text/plain": [
       "Text(0, 0.5, 'employ')"
      ]
     },
     "execution_count": 5,
     "metadata": {},
     "output_type": "execute_result"
    },
    {
     "data": {
      "image/png": "[encoded data removed]",
      "text/plain": [
       "<Figure size 432x288 with 1 Axes>"
      ]
     },
     "metadata": {
      "needs_background": "light"
     },
     "output_type": "display_data"
    }
   ],
   "source": [
    "plt.scatter(df['age'], df['employ'], c=df['custcat1'])\n",
    "plt.xlabel('age')\n",
    "plt.ylabel('employ') "
   ]
  },
  {
   "cell_type": "markdown",
   "id": "1fea3840",
   "metadata": {},
   "source": [
    "    -- Wiek i czas, na który wybrali firmę, a grupa klasyfikacyjna"
   ]
  },
  {
   "cell_type": "code",
   "execution_count": 6,
   "id": "48dc69b1",
   "metadata": {},
   "outputs": [
    {
     "data": {
      "text/plain": [
       "Text(0, 0.5, 'tenure')"
      ]
     },
     "execution_count": 6,
     "metadata": {},
     "output_type": "execute_result"
    },
    {
     "data": {
      "image/png": "[encoded data removed]",
      "text/plain": [
       "<Figure size 432x288 with 1 Axes>"
      ]
     },
     "metadata": {
      "needs_background": "light"
     },
     "output_type": "display_data"
    }
   ],
   "source": [
    "plt.scatter(df['age'], df['tenure'], c=df['custcat1'])\n",
    "plt.xlabel('age')\n",
    "plt.ylabel('tenure') "
   ]
  },
  {
   "cell_type": "markdown",
   "id": "96ef922d",
   "metadata": {},
   "source": [
    "    -- Wiek i miejsce zamiesznia, a grupa klasyfikacyjna"
   ]
  },
  {
   "cell_type": "code",
   "execution_count": 7,
   "id": "1b4ff934",
   "metadata": {},
   "outputs": [
    {
     "data": {
      "text/plain": [
       "Text(0, 0.5, 'age')"
      ]
     },
     "execution_count": 7,
     "metadata": {},
     "output_type": "execute_result"
    },
    {
     "data": {
      "image/png": "[encoded data removed]",
      "text/plain": [
       "<Figure size 432x288 with 1 Axes>"
      ]
     },
     "metadata": {
      "needs_background": "light"
     },
     "output_type": "display_data"
    }
   ],
   "source": [
    "plt.scatter(df['address'], df['age'], c=df['custcat1'])\n",
    "plt.xlabel('address')\n",
    "plt.ylabel('age') "
   ]
  },
  {
   "cell_type": "markdown",
   "id": "014eaafa",
   "metadata": {},
   "source": [
    "__Tworzenie modelu liniowego:__ zaklasyfikowanie do grupy określono na podstawie wieku i średnich zarobków klienta "
   ]
  },
  {
   "cell_type": "code",
   "execution_count": 8,
   "id": "33e37bb5",
   "metadata": {},
   "outputs": [
    {
     "name": "stdout",
     "output_type": "stream",
     "text": [
      "[[0.00291414 0.00614615]] [-0.40322629]\n"
     ]
    }
   ],
   "source": [
    "# tworzenie zmiennych X\n",
    "X1 = df[['income', 'age']].values\n",
    "y1 = df['custcat1'].values\n",
    "\n",
    "# tworzenie modelu liniowej regresji\n",
    "model1 = LogisticRegression()\n",
    "model1.fit(X1, y1)\n",
    " \n",
    "# prezentacja dopasowania modelu\n",
    "print(model1.coef_, model1.intercept_) "
   ]
  },
  {
   "cell_type": "markdown",
   "id": "a8bb608a",
   "metadata": {},
   "source": [
    "__Dokonywanie prognoz za pomocą modelu i porównanie z rzeczywistymi danymi__"
   ]
  },
  {
   "cell_type": "code",
   "execution_count": 9,
   "id": "654ff782",
   "metadata": {},
   "outputs": [
    {
     "name": "stdout",
     "output_type": "stream",
     "text": [
      "[1 1 1 0 0 1 0 1 1 1]\n",
      "[0 1 1 0 1 1 0 1 1 0]\n"
     ]
    }
   ],
   "source": [
    "# przewidywanie modelu\n",
    "print(model1.predict(X1[:10]))\n",
    "# porównanie z danych rzeczywistymi\n",
    "print(y1[:10]) "
   ]
  },
  {
   "cell_type": "markdown",
   "id": "23925228",
   "metadata": {},
   "source": [
    "__Dokonanie prognoz za pomocą modelu na przypadkowych danych__"
   ]
  },
  {
   "cell_type": "code",
   "execution_count": 10,
   "id": "4c8751a2",
   "metadata": {},
   "outputs": [
    {
     "name": "stdout",
     "output_type": "stream",
     "text": [
      "Nowe dane: [[126, 75], [73, 68], [88, 70], [37, 68], [144, 79], [145, 22], [28, 85], [110, 63], [150, 86], [34, 89]]\n",
      "[1 1 1 1 1 1 1 1 1 1]\n"
     ]
    }
   ],
   "source": [
    "# nowe dane\n",
    "dane1 = []\n",
    "\n",
    "# pętla tworząca nowe dane\n",
    "for i in range(0,10):\n",
    "        dane1.append([random.randint(1,200),random.randint(1,100)])\n",
    "\n",
    "# prezentacja nowych danych\n",
    "print(\"Nowe dane:\", dane1)\n",
    "# modelowanie nowych danych\n",
    "print(model1.predict(dane1))"
   ]
  },
  {
   "cell_type": "markdown",
   "id": "ca5431f8",
   "metadata": {},
   "source": [
    "__Ewaluacja modelu__"
   ]
  },
  {
   "cell_type": "code",
   "execution_count": 11,
   "id": "5d44b870",
   "metadata": {},
   "outputs": [
    {
     "name": "stdout",
     "output_type": "stream",
     "text": [
      "563\n",
      "0.563\n",
      "0.563\n"
     ]
    }
   ],
   "source": [
    "y1_pred = model1.predict(X1)\n",
    "print((y1 == y1_pred).sum())\n",
    "print((y1 == y1_pred).sum() / y1.shape[0])\n",
    "print(model1.score(X1, y1)) "
   ]
  },
  {
   "cell_type": "markdown",
   "id": "f580d72a",
   "metadata": {},
   "source": [
    "__Dokładność, precyzja, pełność i wynik F1__"
   ]
  },
  {
   "cell_type": "code",
   "execution_count": 12,
   "id": "7d4f0135",
   "metadata": {},
   "outputs": [
    {
     "name": "stdout",
     "output_type": "stream",
     "text": [
      "accuracy: 0.563\n",
      "precision: 0.5796812749003984\n",
      "recall: 0.562862669245648\n",
      "f1 score: 0.5711481844946026\n"
     ]
    }
   ],
   "source": [
    "#prezentacja wartości okreslających ewaluacje\n",
    "print(\"accuracy:\", accuracy_score(y1, y1_pred))\n",
    "print(\"precision:\", precision_score(y1, y1_pred))\n",
    "print(\"recall:\", recall_score(y1, y1_pred))\n",
    "print(\"f1 score:\", f1_score(y1, y1_pred)) "
   ]
  },
  {
   "cell_type": "markdown",
   "id": "ddbe16de",
   "metadata": {},
   "source": [
    "__Macierz pomyłek__\n",
    "TN = 272\n",
    "FP = 211\n",
    "FN = 226\n",
    "TP = 291"
   ]
  },
  {
   "cell_type": "code",
   "execution_count": 13,
   "id": "192f65d1",
   "metadata": {},
   "outputs": [
    {
     "name": "stdout",
     "output_type": "stream",
     "text": [
      "[[272 211]\n",
      " [226 291]]\n"
     ]
    }
   ],
   "source": [
    "#importowanie biblioteki do tworzenia macierzy\n",
    "from sklearn.metrics import confusion_matrix\n",
    "\n",
    "#rysowanie macierzy\n",
    "print(confusion_matrix(y1, y1_pred)) "
   ]
  },
  {
   "cell_type": "markdown",
   "id": "b10e7aee",
   "metadata": {},
   "source": [
    "__Zbiory uczące i testowe__"
   ]
  },
  {
   "cell_type": "code",
   "execution_count": 14,
   "id": "53172d93",
   "metadata": {},
   "outputs": [
    {
     "name": "stdout",
     "output_type": "stream",
     "text": [
      "whole dataset: (1000, 2) (1000,)\n",
      "training set: (750, 2) (750,)\n",
      "test set: (250, 2) (250,)\n",
      "*********\n",
      "0.516\n"
     ]
    }
   ],
   "source": [
    "#importowanie biblioteki do podziału danych na zbiór uczący i testowy\n",
    "from sklearn.model_selection import train_test_split \n",
    "\n",
    "# tworzenie zmiennych X\n",
    "X1 = df[['income', 'age']].values\n",
    "y1 = df['custcat1'].values\n",
    "\n",
    "#losowo rozdzielanie danych do zbioru uczącego i testowego\n",
    "X1_train, X1_test, y1_train, y1_test = train_test_split(X1, y1)\n",
    "\n",
    "#prezentowanie zbiorów\n",
    "print(\"whole dataset:\", X1.shape, y1.shape)\n",
    "print(\"training set:\", X1_train.shape, y1_train.shape) \n",
    "print(\"test set:\", X1_test.shape, y1_test.shape) \n",
    "print(\"*********\")\n",
    "\n",
    "# tworzenie modelu liniowej regresji\n",
    "model3 = LogisticRegression()\n",
    "model3.fit(X1_train, y1_train)\n",
    "#ewaluacja wstępna\n",
    "print(model3.score(X1_test, y1_test))\n"
   ]
  },
  {
   "cell_type": "markdown",
   "id": "ed12f31b",
   "metadata": {},
   "source": [
    "__Ewaluacja hold-out:__ zbiór uczący 75%   zbiór testowy 25%\n"
   ]
  },
  {
   "cell_type": "code",
   "execution_count": 15,
   "id": "81118931",
   "metadata": {},
   "outputs": [
    {
     "name": "stdout",
     "output_type": "stream",
     "text": [
      "accuracy: 0.516\n",
      "precision: 0.6521739130434783\n",
      "recall: 0.31690140845070425\n",
      "f1 score: 0.4265402843601896\n"
     ]
    }
   ],
   "source": [
    "#ewaluacja\n",
    "y1_pred = model3.predict(X1_test)\n",
    "print(\"accuracy:\", accuracy_score(y1_test, y1_pred))\n",
    "print(\"precision:\", precision_score(y1_test, y1_pred))\n",
    "print(\"recall:\", recall_score(y1_test, y1_pred))\n",
    "print(\"f1 score:\", f1_score(y1_test, y1_pred))  "
   ]
  },
  {
   "cell_type": "markdown",
   "id": "71f46848",
   "metadata": {},
   "source": [
    "__K-krotny sprawdzian krzyżowy__"
   ]
  },
  {
   "cell_type": "code",
   "execution_count": 26,
   "id": "ca114e46",
   "metadata": {},
   "outputs": [
    {
     "name": "stdout",
     "output_type": "stream",
     "text": [
      "[0.595, 0.545, 0.52, 0.595, 0.54]\n",
      "0.5589999999999999\n"
     ]
    }
   ],
   "source": [
    "#impport biblioteki do sprawdzianu krzyżowego\n",
    "from sklearn.model_selection import KFold \n",
    "\n",
    "scores = []\n",
    "#utwrozono 5 fragmentów i wprowadzono losową kolejność danych \n",
    "kf = KFold(n_splits=5, shuffle=True)\n",
    "\n",
    "for train_index, test_index in kf.split(X1):\n",
    "    # tworzenie zmiennych X\n",
    "    X1_train, X1_test = X1[train_index], X1[test_index]\n",
    "    #określanie y\n",
    "    y1_train, y1_test = y1[train_index], y1[test_index] \n",
    "    # tworzenie modelu liniowej regresji\n",
    "    model = LogisticRegression()\n",
    "    model.fit(X1_train, y1_train)\n",
    "    #ewaluacja\n",
    "    scores.append(model.score(X1_test, y1_test))\n",
    "print(scores)\n",
    "print(np.mean(scores))\n",
    "# final_model = LogisticRegression()\n",
    "# final_model.fit(X1, y1)\n"
   ]
  },
  {
   "cell_type": "code",
   "execution_count": 33,
   "id": "d7dd13f7",
   "metadata": {},
   "outputs": [
    {
     "name": "stdout",
     "output_type": "stream",
     "text": [
      "[0.5479041916167665, 0.5465465465465466, 0.4804804804804805]\n",
      "0.5249770728812645\n",
      "[0.524, 0.544]\n",
      "0.534\n",
      "[0.535, 0.52, 0.56, 0.56, 0.505]\n",
      "0.536\n",
      "[0.508, 0.548, 0.516, 0.536]\n",
      "0.527\n"
     ]
    }
   ],
   "source": [
    "def score_model(X1, y1, kfs): \n",
    "    scores = []\n",
    "    X1 = X1.values\n",
    "    y1 = y1.values\n",
    "    #utworzono kfs fragmentów i wprowadzono losową kolejność danych \n",
    "    kf = KFold(n_splits=kfs, shuffle=True)\n",
    "    for train_index, test_index in kf.split(X1):\n",
    "        # tworzenie listy X1_train, X1_test\n",
    "        X1_train, X1_test = X1[train_index], X1[test_index]\n",
    "        #określanie listy y1_train, y1_test\n",
    "        y1_train, y1_test = y1[train_index], y1[test_index] \n",
    "        # tworzenie modelu liniowej regresji\n",
    "        modelx = LogisticRegression()\n",
    "        modelx.fit(X1_train, y1_train)\n",
    "        #sprawdzanie\n",
    "        scores.append(modelx.score(X1_test, y1_test))\n",
    "    #pokazuje wyniki dla każdego z testów    \n",
    "    print(scores)\n",
    "    #pokazuje średni wynik testów\n",
    "    print(np.mean(scores))\n",
    "    final_modelx = LogisticRegression()\n",
    "    final_modelx.fit(X1, y1)\n",
    "    \n",
    "score_model(df[['age','retire']], df['custcat1'], 3) \n",
    "score_model(df[['age','tenure']], df['custcat1'], 2) \n",
    "score_model(df[['region','age','income','employ','gender']], df['custcat1'], 5) \n",
    "score_model(df[['region','age','gender']], df['custcat1'], 4) "
   ]
  },
  {
   "cell_type": "markdown",
   "id": "fc74a5da",
   "metadata": {},
   "source": [
    "__Krzywa charakterystyki roboczej odbiornika ROC__\n",
    "\n",
    "\"Krzywa ROC to jeden ze sposobów wizualizacji jakości klasyfikacji, pokazujący zależności wskaźników TPR (True Positive Rate) oraz FPR (False Positive Rate).\n",
    "\n",
    "Im większe AUC tym lepiej: AUC = 1 (klasyfikator idealny), \n",
    "AUC = 0.5 (klasyfikator losowy), AUC < 0.5 (nieprawidłowy klasyfikator (gorszy niż losowy)).\""
   ]
  },
  {
   "cell_type": "code",
   "execution_count": 28,
   "id": "b24452b6",
   "metadata": {},
   "outputs": [
    {
     "name": "stdout",
     "output_type": "stream",
     "text": [
      "Accuracy 0.576\n"
     ]
    },
    {
     "data": {
      "image/png": "[encoded data removed]",
      "text/plain": [
       "<Figure size 432x288 with 1 Axes>"
      ]
     },
     "metadata": {
      "needs_background": "light"
     },
     "output_type": "display_data"
    }
   ],
   "source": [
    "# tworzenie zmiennych X i y\n",
    "X = df[['income', 'age','address']].values\n",
    "y = df['custcat1'].values\n",
    "\n",
    "#podział bazy danych na zbiór ćwiczeniowy i testowy\n",
    "X_train, X_test, y_train, y_test = train_test_split(X,y, random_state=True)\n",
    "\n",
    "#przeprowadzenie regresji - model\n",
    "ml = LogisticRegression(penalty='l2', C=0.1)\n",
    "ml.fit(X_train, y_train)\n",
    "y_pred = ml.predict(X_test)\n",
    "\n",
    "#dopasowanie\n",
    "print(\"Accuracy\", metrics.accuracy_score(y_test, y_pred))\n",
    "\n",
    "#krzywa AUC\n",
    "y_pred_proba = ml.predict_proba(X_test)[::,1]\n",
    "fpr, tpr, _ = metrics.roc_curve(y_test,  y_pred_proba)\n",
    "auc = metrics.roc_auc_score(y_test, y_pred_proba)\n",
    "\n",
    "#wykres\n",
    "plt.plot(fpr,tpr,label=\"data 1, auc=\"+str(auc), color=\"navy\")\n",
    "plt.legend(loc=\"lower right\")\n",
    "plt.xlabel(\"False Positive Rate\")\n",
    "plt.ylabel(\"True Positive Rate\")\n",
    "plt.show()\n"
   ]
  },
  {
   "cell_type": "markdown",
   "id": "99293680",
   "metadata": {},
   "source": [
    "Za pomoca ROC można np: \n",
    "\n",
    "-podzielić klientów banku, na tych, którzy będą spłacac kredyt i tych, którzy nie będą tego robić\n",
    "\n",
    "-zdecydować jaką taktykę podejmie lekarz co do pacjentów"
   ]
  },
  {
   "cell_type": "markdown",
   "id": "e0175309",
   "metadata": {},
   "source": [
    "**************************************************************************\n",
    "**************************************************************************\n",
    "__Tworzenie modelu liniowego:__ zaklasyfikowanie do grupy określono na podstawie wieku, średnich zarobków klienta, płci, zatrudnienia, statusu emerytalnego i miejsca zamieszkania"
   ]
  },
  {
   "cell_type": "code",
   "execution_count": 20,
   "id": "d3c61fbe",
   "metadata": {},
   "outputs": [
    {
     "name": "stdout",
     "output_type": "stream",
     "text": [
      "[[ 0.00209159 -0.00412364 -0.11702429  0.0241935   0.36826992  0.10260867]] [-0.37481122]\n"
     ]
    }
   ],
   "source": [
    "# tworzenie zmiennych X\n",
    "X2 = df[['income','age','gender','employ','retire','reside']].values\n",
    "y2 = df['custcat1'].values\n",
    "\n",
    "# tworzenie modelu liniowej regresji\n",
    "model2 = LogisticRegression()\n",
    "model2.fit(X2, y2)\n",
    " \n",
    "# prezentacja dopasowania modelu\n",
    "print(model2.coef_, model2.intercept_) "
   ]
  },
  {
   "cell_type": "markdown",
   "id": "ce4e0525",
   "metadata": {},
   "source": [
    "__Dokonywanie prognoz za pomocą modelu i porównanie z rzeczywistymi danymi__"
   ]
  },
  {
   "cell_type": "code",
   "execution_count": 21,
   "id": "e0e3e801",
   "metadata": {},
   "outputs": [
    {
     "name": "stdout",
     "output_type": "stream",
     "text": [
      "[0 1 1 0 1 1 1 1 1 1]\n",
      "[0 1 1 0 1 1 0 1 1 0]\n"
     ]
    }
   ],
   "source": [
    "# przewidywanie modelu\n",
    "print(model2.predict(X2[:10]))\n",
    "# porównanie z danych rzeczywistymi\n",
    "print(y2[:10]) "
   ]
  },
  {
   "cell_type": "markdown",
   "id": "c6c36365",
   "metadata": {},
   "source": [
    "__Dokonoanie prognoz za pomocą modelu na przypadkowych danych__"
   ]
  },
  {
   "cell_type": "code",
   "execution_count": 22,
   "id": "f436f7b6",
   "metadata": {},
   "outputs": [
    {
     "name": "stdout",
     "output_type": "stream",
     "text": [
      "[[5, 68, 1, 90, 0, 4], [87, 55, 0, 15, 1, 1], [150, 65, 0, 59, 0, 5], [146, 90, 0, 11, 0, 3], [149, 21, 0, 92, 0, 5], [135, 75, 1, 21, 1, 2], [7, 60, 0, 23, 0, 5], [43, 51, 1, 26, 1, 6], [72, 9, 1, 39, 1, 4], [182, 49, 1, 55, 1, 1]]\n",
      "[1 1 1 1 1 1 1 1 1 1]\n"
     ]
    }
   ],
   "source": [
    "# nowe dane\n",
    "dane2 = []\n",
    "\n",
    "# pętla tworząca nowe dane\n",
    "for i in range(0,10):\n",
    "        dane2.append([random.randint(1,200),random.randint(1,100),\n",
    "                      random.randint(0,1),random.randint(1,100),\n",
    "                      random.randint(0,1),random.randint(1,6)])\n",
    "\n",
    "# prezentacja nowych danych\n",
    "print(dane2)\n",
    "# modelowanie nowych danych\n",
    "print(model2.predict(dane2))"
   ]
  },
  {
   "cell_type": "markdown",
   "id": "3e5b60b0",
   "metadata": {},
   "source": [
    "__Ewaluacja modelu__"
   ]
  },
  {
   "cell_type": "code",
   "execution_count": 23,
   "id": "5e42bd38",
   "metadata": {},
   "outputs": [
    {
     "name": "stdout",
     "output_type": "stream",
     "text": [
      "557\n",
      "0.557\n",
      "0.557\n"
     ]
    }
   ],
   "source": [
    "y2_pred = model2.predict(X2)\n",
    "print((y2 == y2_pred).sum())\n",
    "print((y2 == y2_pred).sum() / y2.shape[0])\n",
    "print(model2.score(X2, y2))"
   ]
  },
  {
   "cell_type": "markdown",
   "id": "3317ae68",
   "metadata": {},
   "source": [
    "__Dokładność, precyzja, pełność i wynik F1__"
   ]
  },
  {
   "cell_type": "code",
   "execution_count": 24,
   "id": "3b7ca306",
   "metadata": {},
   "outputs": [
    {
     "name": "stdout",
     "output_type": "stream",
     "text": [
      "accuracy: 0.557\n",
      "precision: 0.5742971887550201\n",
      "recall: 0.5531914893617021\n",
      "f1 score: 0.5635467980295567\n"
     ]
    }
   ],
   "source": [
    "print(\"accuracy:\", accuracy_score(y2, y2_pred))\n",
    "print(\"precision:\", precision_score(y2, y2_pred))\n",
    "print(\"recall:\", recall_score(y2, y2_pred))\n",
    "print(\"f1 score:\", f1_score(y2, y2_pred)) "
   ]
  },
  {
   "cell_type": "markdown",
   "id": "a38872e2",
   "metadata": {},
   "source": [
    "__Macierz pomyłek__\n",
    "TN = 271\n",
    "FP = 211\n",
    "FN = 231\n",
    "TP = 286"
   ]
  },
  {
   "cell_type": "code",
   "execution_count": 25,
   "id": "54c2bf0c",
   "metadata": {},
   "outputs": [
    {
     "name": "stdout",
     "output_type": "stream",
     "text": [
      "[[271 212]\n",
      " [231 286]]\n"
     ]
    }
   ],
   "source": [
    "#importowanie biblioteki do tworzenia macierzy\n",
    "from sklearn.metrics import confusion_matrix\n",
    "\n",
    "#rysowanie macierzy\n",
    "print(confusion_matrix(y2, y2_pred)) "
   ]
  },
  {
   "cell_type": "markdown",
   "id": "4cf9e37c",
   "metadata": {},
   "source": [
    "__wnioski__ trudno jest za pomocą regresji znaelżć dobry model dla danych towarzystwa telefonicznego.\n",
    "\n",
    "Najlepszy jest model przewidujący klasyfikację na podstawie: 'income','age','gender','employ','retire','reside'\n",
    "\n",
    "Jego dokładność wynosi 0.557."
   ]
  }
 ],
 "metadata": {
  "kernelspec": {
   "display_name": "Python 3",
   "language": "python",
   "name": "python3"
  },
  "language_info": {
   "codemirror_mode": {
    "name": "ipython",
    "version": 3
   },
   "file_extension": ".py",
   "mimetype": "text/x-python",
   "name": "python",
   "nbconvert_exporter": "python",
   "pygments_lexer": "ipython3",
   "version": "3.8.8"
  }
 },
 "nbformat": 4,
 "nbformat_minor": 5
}
