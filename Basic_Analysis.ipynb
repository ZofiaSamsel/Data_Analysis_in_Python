{
 "cells": [
  {
   "cell_type": "code",
   "execution_count": 3,
   "id": "4ed701df",
   "metadata": {},
   "outputs": [
    {
     "name": "stdout",
     "output_type": "stream",
     "text": [
      "Wprowadz wartosc a:1\n",
      "Wprowadz wartosc b:1\n",
      "Wprowadz wartosc c:1\n",
      "Wprowadz wartosc d:-1\n",
      "Twoje równanie to: 1*x^4+1*x^3+1*x^2-1*x\n",
      "Podaj granice dolna: 5\n",
      "Podaj granice górną: 8\n"
     ]
    },
    {
     "data": {
      "image/png": "[encoded data removed]",
      "text/plain": [
       "<Figure size 432x288 with 1 Axes>"
      ]
     },
     "metadata": {
      "needs_background": "light"
     },
     "output_type": "display_data"
    },
    {
     "data": {
      "image/png": "[encoded data removed]",
      "text/plain": [
       "<Figure size 432x288 with 1 Axes>"
      ]
     },
     "metadata": {
      "needs_background": "light"
     },
     "output_type": "display_data"
    }
   ],
   "source": [
    "# # pobieranie bibliotek\n",
    "import matplotlib.pyplot as plt\n",
    "import numpy as np\n",
    "\n",
    "# pytanie o zmienne\n",
    "a = int(input('Wprowadz wartosc a:'))\n",
    "\n",
    "b = int(input('Wprowadz wartosc b:'))\n",
    "c = int(input('Wprowadz wartosc c:'))\n",
    "d = int(input('Wprowadz wartosc d:'))\n",
    "\n",
    "\n",
    "\n",
    "# rownanie\n",
    "if b < 0:\n",
    "    b1 = \"{}*x^3\".format(b)\n",
    "else:\n",
    "    b1 = \"+{}*x^3\".format(b)\n",
    "\n",
    "if c < 0:\n",
    "    c1 = \"{}*x^2\".format(c)\n",
    "else:\n",
    "    c1 = \"+{}*x^2\".format(c)\n",
    "\n",
    "if d < 0:\n",
    "    d1 = \"{}*x\".format(d)\n",
    "else:\n",
    "    d1 = \"+{}*x\".format(d)\n",
    "\n",
    "# zwracanie rownania\n",
    "rownanie = \"Twoje równanie to: {}*x^4{}{}{}\".format(a, b1, c1, d1)\n",
    "print(rownanie)\n",
    "\n",
    "#  podanie granicy dolnej\n",
    "koniec0 = input(\"Podaj granice dolna: \")\n",
    "\n",
    "# zmiana inputu na int, jezeli mozna \n",
    "try:\n",
    "    int(koniec0)\n",
    "    koniec0 = int(koniec0)\n",
    "except ValueError:\n",
    "    print('Wprowadz liczbe!')\n",
    "    koniec0 = input(\"Podaj granice dolna: \")\n",
    "    quit\n",
    "    \n",
    "\n",
    "# podanie granicy dolnej\n",
    "koniec1 = input(\"Podaj granice górną: \")\n",
    "\n",
    "# zmiana inputu na int, jezeli mozna \n",
    "try:\n",
    "    int(koniec1)\n",
    "    koniec1 = int(koniec1)\n",
    "except ValueError:\n",
    "    print('Wprowadz liczbe!')\n",
    "    koniec1 = int(input(\"Podaj granice górną: \"))\n",
    "    quit\n",
    "    \n",
    "# gdy koniec1 mniejszy niz 0\n",
    "if koniec1 <= koniec0:\n",
    "    print(\"Granica górna musi być większa niż dolna!\")\n",
    "    koniec1 = int(input(\"Podaj granice górną: \"))\n",
    "    quit()\n",
    "# WYKRES 1\n",
    "# zmienne do rysowania wykresu\n",
    "tab=[]\n",
    "tab1=[]\n",
    "z=int(koniec0)\n",
    "\n",
    "# rysuje 100 punktów na wykresie \n",
    "for i in range(0, 100):\n",
    "    tab1.append(z)\n",
    "    tab.append(a*(z**4)+b*(z**3)+c*(z**2)+d*z)\n",
    "    z = z + ((koniec1-koniec0)/100)\n",
    "\n",
    "# tytul wykresu\n",
    "plt.title('WYKRES 1')\n",
    "\n",
    "# nazywanie osi x\n",
    "plt.xlabel('x')\n",
    "# nazywanie osi y\n",
    "plt.ylabel('f(x)')\n",
    "\n",
    "# stworz wykres\n",
    "plt.plot(tab1, tab, \"b\")\n",
    "\n",
    "# pokaz wykres\n",
    "plt.show()\n",
    "\n",
    "# WYKRES 2\n",
    "# zmiana koloru tła wykresu\n",
    "ax = plt.axes()\n",
    "ax.set_facecolor(color=\"#cf0a97\")\n",
    "# stworz wykres\n",
    "plt.plot(tab1, tab, color=\"#0a4dd1\")\n",
    "\n",
    "# tytul wykresu\n",
    "plt.title('WYKRES 2')\n",
    "  \n",
    "# nazywanie osi x\n",
    "plt.xlabel('x')\n",
    "# nazywanie osi y\n",
    "plt.ylabel('f(x)')\n",
    "\n",
    "# linie przechodzace przez srodek wykresu\n",
    "plt.axhline(y=0, color=\"#cccccc\")\n",
    "plt.axvline(x=0, color=\"#cccccc\")\n",
    "\n",
    "# pokaz wykres\n",
    "plt.show()"
   ]
  },
  {
   "cell_type": "code",
   "execution_count": null,
   "id": "fe572435",
   "metadata": {},
   "outputs": [],
   "source": []
  }
 ],
 "metadata": {
  "kernelspec": {
   "display_name": "Python 3",
   "language": "python",
   "name": "python3"
  },
  "language_info": {
   "codemirror_mode": {
    "name": "ipython",
    "version": 3
   },
   "file_extension": ".py",
   "mimetype": "text/x-python",
   "name": "python",
   "nbconvert_exporter": "python",
   "pygments_lexer": "ipython3",
   "version": "3.8.8"
  }
 },
 "nbformat": 4,
 "nbformat_minor": 5
}
